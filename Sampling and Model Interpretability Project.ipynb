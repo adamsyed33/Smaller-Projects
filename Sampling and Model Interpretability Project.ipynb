{
 "cells": [
  {
   "cell_type": "markdown",
   "metadata": {
    "id": "mlOEzxLwuORm"
   },
   "source": [
    "# Assignment 4: Sampling and Model Interpretability\n",
    "-----------------------------------\n",
    "\n",
    "**Dr. Dave Wanik - OPIM 5512: Data Science Using Python - University of Connecticut**\n",
    "\n",
    "-----------------------------------\n",
    "\n",
    "\n",
    "**Your Name Here:** Adam Syed\n",
    "\n",
    "Put your sampling and interpretability skills to the test!\n",
    "\n",
    "You will build a classification model using a sampling technique of your choice (oversampling, undersampling or SMOTE - I'm not testing how good your model is for this assignment, just that you know how to interpret the model!). We will use CA housing since you have some experience with this from tree-based models. You can use any classification model we have covered in class (DTC, RFC, GBC or logistic regression.)\n",
    "\n",
    "# Rubric\n",
    "* (10 points) I've already made your data 'imbalanced' with the 75th percentile. Split the raw data into train and test partition with an 80/20 split. Then use a sampling technique (oversampling, undersampling, SMOTE) on the train data. Important: do not change the class imbalance in the test partition! Count values of each class before and after your sampling to confirm your understanding of how the sampling worked. Your new train data should be more or less balanced, while the test data is still imbalanced. This allows for fair evaluation of the model.\n",
    "\n",
    "Then, using your fitted model, you will:\n",
    "* (40 points) Print the top 3 features (using permutation importance with 15 repeats) as a boxplot (like we do in class.)\n",
    "* (40 points) Create the partial dependence plots for the top 3 features (you may opt to use the `num_grid_points=10` argument if your code is taking a long time to run). Customize the plots so that the Y axis is consistent on each of the three plots and remember that the Y axis is showing the change in predicted probability.\n",
    "* (10 points) Write five meaningful bullets about what you see in the plots and tables. Does anything surprise you?\n",
    "  * **Optional:** Potential with issues concerning correlated predictors (read here for a cool way on how to address this: https://scikit-learn.org/stable/auto_examples/inspection/plot_permutation_importance_multicollinear.html)?"
   ]
  },
  {
   "cell_type": "code",
   "execution_count": 1,
   "metadata": {
    "colab": {
     "base_uri": "https://localhost:8080/",
     "height": 206
    },
    "id": "qjiMm6XivpGh",
    "outputId": "35ff66fa-15c3-4c06-bf7b-088d29c8f817"
   },
   "outputs": [
    {
     "data": {
      "text/html": [
       "<div>\n",
       "<style scoped>\n",
       "    .dataframe tbody tr th:only-of-type {\n",
       "        vertical-align: middle;\n",
       "    }\n",
       "\n",
       "    .dataframe tbody tr th {\n",
       "        vertical-align: top;\n",
       "    }\n",
       "\n",
       "    .dataframe thead th {\n",
       "        text-align: right;\n",
       "    }\n",
       "</style>\n",
       "<table border=\"1\" class=\"dataframe\">\n",
       "  <thead>\n",
       "    <tr style=\"text-align: right;\">\n",
       "      <th></th>\n",
       "      <th>longitude</th>\n",
       "      <th>latitude</th>\n",
       "      <th>housing_median_age</th>\n",
       "      <th>total_rooms</th>\n",
       "      <th>total_bedrooms</th>\n",
       "      <th>population</th>\n",
       "      <th>households</th>\n",
       "      <th>median_income</th>\n",
       "      <th>median_house_value</th>\n",
       "    </tr>\n",
       "  </thead>\n",
       "  <tbody>\n",
       "    <tr>\n",
       "      <th>0</th>\n",
       "      <td>-114.31</td>\n",
       "      <td>34.19</td>\n",
       "      <td>15.0</td>\n",
       "      <td>5612.0</td>\n",
       "      <td>1283.0</td>\n",
       "      <td>1015.0</td>\n",
       "      <td>472.0</td>\n",
       "      <td>1.4936</td>\n",
       "      <td>66900.0</td>\n",
       "    </tr>\n",
       "    <tr>\n",
       "      <th>1</th>\n",
       "      <td>-114.47</td>\n",
       "      <td>34.40</td>\n",
       "      <td>19.0</td>\n",
       "      <td>7650.0</td>\n",
       "      <td>1901.0</td>\n",
       "      <td>1129.0</td>\n",
       "      <td>463.0</td>\n",
       "      <td>1.8200</td>\n",
       "      <td>80100.0</td>\n",
       "    </tr>\n",
       "    <tr>\n",
       "      <th>2</th>\n",
       "      <td>-114.56</td>\n",
       "      <td>33.69</td>\n",
       "      <td>17.0</td>\n",
       "      <td>720.0</td>\n",
       "      <td>174.0</td>\n",
       "      <td>333.0</td>\n",
       "      <td>117.0</td>\n",
       "      <td>1.6509</td>\n",
       "      <td>85700.0</td>\n",
       "    </tr>\n",
       "    <tr>\n",
       "      <th>3</th>\n",
       "      <td>-114.57</td>\n",
       "      <td>33.64</td>\n",
       "      <td>14.0</td>\n",
       "      <td>1501.0</td>\n",
       "      <td>337.0</td>\n",
       "      <td>515.0</td>\n",
       "      <td>226.0</td>\n",
       "      <td>3.1917</td>\n",
       "      <td>73400.0</td>\n",
       "    </tr>\n",
       "    <tr>\n",
       "      <th>4</th>\n",
       "      <td>-114.57</td>\n",
       "      <td>33.57</td>\n",
       "      <td>20.0</td>\n",
       "      <td>1454.0</td>\n",
       "      <td>326.0</td>\n",
       "      <td>624.0</td>\n",
       "      <td>262.0</td>\n",
       "      <td>1.9250</td>\n",
       "      <td>65500.0</td>\n",
       "    </tr>\n",
       "  </tbody>\n",
       "</table>\n",
       "</div>"
      ],
      "text/plain": [
       "   longitude  latitude  housing_median_age  total_rooms  total_bedrooms  \\\n",
       "0    -114.31     34.19                15.0       5612.0          1283.0   \n",
       "1    -114.47     34.40                19.0       7650.0          1901.0   \n",
       "2    -114.56     33.69                17.0        720.0           174.0   \n",
       "3    -114.57     33.64                14.0       1501.0           337.0   \n",
       "4    -114.57     33.57                20.0       1454.0           326.0   \n",
       "\n",
       "   population  households  median_income  median_house_value  \n",
       "0      1015.0       472.0         1.4936             66900.0  \n",
       "1      1129.0       463.0         1.8200             80100.0  \n",
       "2       333.0       117.0         1.6509             85700.0  \n",
       "3       515.0       226.0         3.1917             73400.0  \n",
       "4       624.0       262.0         1.9250             65500.0  "
      ]
     },
     "execution_count": 1,
     "metadata": {},
     "output_type": "execute_result"
    }
   ],
   "source": [
    "import pandas as pd\n",
    "import numpy as np\n",
    "df = pd.read_csv('/Users/adamyeeter/OPIM 5512 Python/Data/california_housing_train.csv')\n",
    "df.head()"
   ]
  },
  {
   "cell_type": "markdown",
   "metadata": {
    "id": "MSklVwv794tE"
   },
   "source": [
    "And we will recode the target variable to a classification problem."
   ]
  },
  {
   "cell_type": "code",
   "execution_count": 2,
   "metadata": {
    "colab": {
     "base_uri": "https://localhost:8080/"
    },
    "id": "LvT61xo097ST",
    "outputId": "e97e2fbd-f4da-43a0-d9d8-6b485367e434"
   },
   "outputs": [
    {
     "data": {
      "text/plain": [
       "0    12753\n",
       "1     4247\n",
       "Name: median_house_value, dtype: int64"
      ]
     },
     "execution_count": 2,
     "metadata": {},
     "output_type": "execute_result"
    }
   ],
   "source": [
    "df['median_house_value'] = np.where(df['median_house_value'] > np.percentile(df['median_house_value'], q=75), 1, 0)\n",
    "df['median_house_value'].value_counts()"
   ]
  },
  {
   "cell_type": "code",
   "execution_count": 3,
   "metadata": {
    "id": "6Zp3Z4IRAbvi"
   },
   "outputs": [
    {
     "data": {
      "text/plain": [
       "0    10206\n",
       "1     3394\n",
       "Name: median_house_value, dtype: int64"
      ]
     },
     "execution_count": 3,
     "metadata": {},
     "output_type": "execute_result"
    }
   ],
   "source": [
    "from sklearn.model_selection import train_test_split\n",
    "\n",
    "y = df['median_house_value']\n",
    "X = df.drop('median_house_value', axis=1)\n",
    "\n",
    "X_train, X_test, y_train, y_test = train_test_split(X, y,\n",
    "                                                    test_size = 0.2,\n",
    "                                                    shuffle = True,\n",
    "                                                    random_state = 2735566)\n",
    "y_train.value_counts()"
   ]
  },
  {
   "cell_type": "markdown",
   "metadata": {
    "id": "P847REMT_l24"
   },
   "source": [
    "# Sampling"
   ]
  },
  {
   "cell_type": "code",
   "execution_count": 4,
   "metadata": {
    "id": "iACWT_64_oHm"
   },
   "outputs": [
    {
     "data": {
      "text/plain": [
       "Counter({0: 10206, 1: 10206})"
      ]
     },
     "execution_count": 4,
     "metadata": {},
     "output_type": "execute_result"
    }
   ],
   "source": [
    "from imblearn.over_sampling import RandomOverSampler\n",
    "from collections import Counter\n",
    "\n",
    "oversample = RandomOverSampler(sampling_strategy='minority')\n",
    "\n",
    "X_train_over, y_train_over = oversample.fit_resample(X_train, y_train)\n",
    "\n",
    "Counter(y_train_over)"
   ]
  },
  {
   "cell_type": "markdown",
   "metadata": {
    "id": "xgm__s2pAXW5"
   },
   "source": [
    "# Model and Metrics"
   ]
  },
  {
   "cell_type": "code",
   "execution_count": 5,
   "metadata": {
    "id": "RMwCQ7W6Aees"
   },
   "outputs": [],
   "source": [
    "from sklearn.metrics import classification_report\n",
    "from sklearn.metrics import confusion_matrix\n",
    "from sklearn.linear_model import LogisticRegression\n",
    "\n",
    "LR = LogisticRegression(max_iter=1000, random_state=2735566)\n",
    "\n",
    "LR = LR.fit(X_train_over, y_train_over)\n",
    "\n",
    "train_preds_LR = LR.predict(X_train_over) \n",
    "test_preds_LR = LR.predict(X_test) "
   ]
  },
  {
   "cell_type": "code",
   "execution_count": 6,
   "metadata": {},
   "outputs": [
    {
     "data": {
      "text/plain": [
       "array([[8361, 1845],\n",
       "       [1869, 8337]])"
      ]
     },
     "execution_count": 6,
     "metadata": {},
     "output_type": "execute_result"
    }
   ],
   "source": [
    "confusion_matrix(y_train_over, train_preds_LR)"
   ]
  },
  {
   "cell_type": "code",
   "execution_count": 7,
   "metadata": {},
   "outputs": [
    {
     "data": {
      "text/plain": [
       "array([[2070,  477],\n",
       "       [ 161,  692]])"
      ]
     },
     "execution_count": 7,
     "metadata": {},
     "output_type": "execute_result"
    }
   ],
   "source": [
    "confusion_matrix(y_test, test_preds_LR)"
   ]
  },
  {
   "cell_type": "code",
   "execution_count": 8,
   "metadata": {},
   "outputs": [
    {
     "name": "stdout",
     "output_type": "stream",
     "text": [
      "              precision    recall  f1-score   support\n",
      "\n",
      "           0       0.82      0.82      0.82     10206\n",
      "           1       0.82      0.82      0.82     10206\n",
      "\n",
      "    accuracy                           0.82     20412\n",
      "   macro avg       0.82      0.82      0.82     20412\n",
      "weighted avg       0.82      0.82      0.82     20412\n",
      "\n"
     ]
    }
   ],
   "source": [
    "trainReport_LR = classification_report(y_train_over, train_preds_LR)\n",
    "print(trainReport_LR)"
   ]
  },
  {
   "cell_type": "code",
   "execution_count": 9,
   "metadata": {},
   "outputs": [
    {
     "name": "stdout",
     "output_type": "stream",
     "text": [
      "              precision    recall  f1-score   support\n",
      "\n",
      "           0       0.93      0.81      0.87      2547\n",
      "           1       0.59      0.81      0.68       853\n",
      "\n",
      "    accuracy                           0.81      3400\n",
      "   macro avg       0.76      0.81      0.78      3400\n",
      "weighted avg       0.84      0.81      0.82      3400\n",
      "\n"
     ]
    }
   ],
   "source": [
    "testReport_LR = classification_report(y_test, test_preds_LR)\n",
    "print(testReport_LR)"
   ]
  },
  {
   "cell_type": "markdown",
   "metadata": {
    "id": "j99ZHu-vAqVK"
   },
   "source": [
    "# Interpretability"
   ]
  },
  {
   "cell_type": "markdown",
   "metadata": {
    "id": "xN63ERDfAszH"
   },
   "source": [
    "## Permutation Importance"
   ]
  },
  {
   "cell_type": "code",
   "execution_count": 10,
   "metadata": {
    "id": "4TKUEyYhAsNz"
   },
   "outputs": [
    {
     "data": {
      "image/png": "[encoded data removed]",
      "text/plain": [
       "<Figure size 600x400 with 1 Axes>"
      ]
     },
     "metadata": {},
     "output_type": "display_data"
    }
   ],
   "source": [
    "from sklearn.inspection import permutation_importance\n",
    "import matplotlib.pyplot as plt\n",
    "\n",
    "clf = LR\n",
    "\n",
    "result = permutation_importance(clf, X_test, y_test, n_repeats=15,\n",
    "                                random_state=2735566)\n",
    "\n",
    "perm_sorted_idx = result.importances_mean.argsort()[::-1]\n",
    "\n",
    "top_3_idx = perm_sorted_idx[:3]\n",
    "\n",
    "fig, ax1 = plt.subplots(1, 1, figsize=(6, 4))\n",
    "ax1.boxplot(result.importances[top_3_idx].T, vert=False,\n",
    "            labels=X.columns[top_3_idx])\n",
    "fig.suptitle('LR Feature Importance', y=1.05)\n",
    "fig.tight_layout()\n",
    "plt.show()"
   ]
  },
  {
   "cell_type": "markdown",
   "metadata": {
    "id": "53mNce4iAwIX"
   },
   "source": [
    "## Partial Dependence"
   ]
  },
  {
   "cell_type": "code",
   "execution_count": 11,
   "metadata": {
    "id": "IsxgzjxnD5ZI"
   },
   "outputs": [
    {
     "data": {
      "text/html": [
       "<div>\n",
       "<style scoped>\n",
       "    .dataframe tbody tr th:only-of-type {\n",
       "        vertical-align: middle;\n",
       "    }\n",
       "\n",
       "    .dataframe tbody tr th {\n",
       "        vertical-align: top;\n",
       "    }\n",
       "\n",
       "    .dataframe thead th {\n",
       "        text-align: right;\n",
       "    }\n",
       "</style>\n",
       "<table border=\"1\" class=\"dataframe\">\n",
       "  <thead>\n",
       "    <tr style=\"text-align: right;\">\n",
       "      <th></th>\n",
       "      <th>longitude</th>\n",
       "      <th>latitude</th>\n",
       "      <th>housing_median_age</th>\n",
       "      <th>total_rooms</th>\n",
       "      <th>total_bedrooms</th>\n",
       "      <th>population</th>\n",
       "      <th>households</th>\n",
       "      <th>median_income</th>\n",
       "    </tr>\n",
       "  </thead>\n",
       "  <tbody>\n",
       "    <tr>\n",
       "      <th>0</th>\n",
       "      <td>-120.06</td>\n",
       "      <td>36.72</td>\n",
       "      <td>32.0</td>\n",
       "      <td>981.0</td>\n",
       "      <td>237.0</td>\n",
       "      <td>736.0</td>\n",
       "      <td>249.0</td>\n",
       "      <td>1.8000</td>\n",
       "    </tr>\n",
       "    <tr>\n",
       "      <th>1</th>\n",
       "      <td>-117.95</td>\n",
       "      <td>33.98</td>\n",
       "      <td>15.0</td>\n",
       "      <td>16042.0</td>\n",
       "      <td>2602.0</td>\n",
       "      <td>7732.0</td>\n",
       "      <td>2552.0</td>\n",
       "      <td>5.6716</td>\n",
       "    </tr>\n",
       "    <tr>\n",
       "      <th>2</th>\n",
       "      <td>-121.94</td>\n",
       "      <td>37.32</td>\n",
       "      <td>46.0</td>\n",
       "      <td>2451.0</td>\n",
       "      <td>472.0</td>\n",
       "      <td>1163.0</td>\n",
       "      <td>448.0</td>\n",
       "      <td>4.8519</td>\n",
       "    </tr>\n",
       "    <tr>\n",
       "      <th>3</th>\n",
       "      <td>-122.68</td>\n",
       "      <td>41.15</td>\n",
       "      <td>32.0</td>\n",
       "      <td>817.0</td>\n",
       "      <td>206.0</td>\n",
       "      <td>224.0</td>\n",
       "      <td>89.0</td>\n",
       "      <td>3.6310</td>\n",
       "    </tr>\n",
       "    <tr>\n",
       "      <th>4</th>\n",
       "      <td>-122.27</td>\n",
       "      <td>37.84</td>\n",
       "      <td>52.0</td>\n",
       "      <td>2436.0</td>\n",
       "      <td>541.0</td>\n",
       "      <td>1015.0</td>\n",
       "      <td>478.0</td>\n",
       "      <td>1.7250</td>\n",
       "    </tr>\n",
       "  </tbody>\n",
       "</table>\n",
       "</div>"
      ],
      "text/plain": [
       "   longitude  latitude  housing_median_age  total_rooms  total_bedrooms  \\\n",
       "0    -120.06     36.72                32.0        981.0           237.0   \n",
       "1    -117.95     33.98                15.0      16042.0          2602.0   \n",
       "2    -121.94     37.32                46.0       2451.0           472.0   \n",
       "3    -122.68     41.15                32.0        817.0           206.0   \n",
       "4    -122.27     37.84                52.0       2436.0           541.0   \n",
       "\n",
       "   population  households  median_income  \n",
       "0       736.0       249.0         1.8000  \n",
       "1      7732.0      2552.0         5.6716  \n",
       "2      1163.0       448.0         4.8519  \n",
       "3       224.0        89.0         3.6310  \n",
       "4      1015.0       478.0         1.7250  "
      ]
     },
     "execution_count": 11,
     "metadata": {},
     "output_type": "execute_result"
    }
   ],
   "source": [
    "train_X_df = pd.DataFrame(X_train_over, columns=X.columns)\n",
    "train_X_df.head()"
   ]
  },
  {
   "cell_type": "code",
   "execution_count": 12,
   "metadata": {},
   "outputs": [
    {
     "name": "stderr",
     "output_type": "stream",
     "text": [
      "/Users/adamyeeter/anaconda3/lib/python3.11/site-packages/sklearn/base.py:464: UserWarning: X does not have valid feature names, but LogisticRegression was fitted with feature names\n",
      "  warnings.warn(\n"
     ]
    },
    {
     "data": {
      "text/plain": [
       "(10, 13600)"
      ]
     },
     "execution_count": 12,
     "metadata": {},
     "output_type": "execute_result"
    }
   ],
   "source": [
    "from pycebox.ice import ice, ice_plot\n",
    "clfdf = ice(data=train_X_df,\n",
    "            column='median_income',\n",
    "                   predict=clf.predict,\n",
    "                    num_grid_points=10)\n",
    "np.shape(clfdf)"
   ]
  },
  {
   "cell_type": "code",
   "execution_count": 13,
   "metadata": {},
   "outputs": [
    {
     "data": {
      "image/png": "[encoded data removed]",
      "text/plain": [
       "<Figure size 640x480 with 1 Axes>"
      ]
     },
     "metadata": {},
     "output_type": "display_data"
    }
   ],
   "source": [
    "ice_plot(clfdf, c='dimgray', linewidth=0.3,\n",
    "                  plot_pdp=True, \n",
    "         pdp_kwargs={'linewidth': 5, 'color':'red'})\n",
    "plt.title('PDP: median_income')\n",
    "plt.ylabel('Predicted median_house_value')\n",
    "plt.xlabel('median_income');\n",
    "plt.show()"
   ]
  },
  {
   "cell_type": "code",
   "execution_count": 14,
   "metadata": {},
   "outputs": [
    {
     "name": "stderr",
     "output_type": "stream",
     "text": [
      "/Users/adamyeeter/anaconda3/lib/python3.11/site-packages/sklearn/base.py:464: UserWarning: X does not have valid feature names, but LogisticRegression was fitted with feature names\n",
      "  warnings.warn(\n"
     ]
    },
    {
     "data": {
      "image/png": "[encoded data removed]",
      "text/plain": [
       "<Figure size 640x480 with 1 Axes>"
      ]
     },
     "metadata": {},
     "output_type": "display_data"
    }
   ],
   "source": [
    "from pycebox.ice import ice, ice_plot\n",
    "clfdf = ice(data=train_X_df,\n",
    "            column='households',\n",
    "                   predict=clf.predict,\n",
    "                    num_grid_points=10)\n",
    "\n",
    "ice_plot(clfdf, c='dimgray', linewidth=0.3,\n",
    "                  plot_pdp=True, \n",
    "         pdp_kwargs={'linewidth': 5, 'color':'red'})\n",
    "plt.title('PDP: households')\n",
    "plt.ylabel('Predicted median_house_value')\n",
    "plt.xlabel('households');\n",
    "plt.show()"
   ]
  },
  {
   "cell_type": "code",
   "execution_count": 15,
   "metadata": {},
   "outputs": [
    {
     "name": "stderr",
     "output_type": "stream",
     "text": [
      "/Users/adamyeeter/anaconda3/lib/python3.11/site-packages/sklearn/base.py:464: UserWarning: X does not have valid feature names, but LogisticRegression was fitted with feature names\n",
      "  warnings.warn(\n"
     ]
    },
    {
     "data": {
      "image/png": "[encoded data removed]",
      "text/plain": [
       "<Figure size 640x480 with 1 Axes>"
      ]
     },
     "metadata": {},
     "output_type": "display_data"
    }
   ],
   "source": [
    "from pycebox.ice import ice, ice_plot\n",
    "clfdf = ice(data=train_X_df,\n",
    "            column='population',\n",
    "                   predict=clf.predict,\n",
    "                    num_grid_points=10)\n",
    "\n",
    "ice_plot(clfdf, c='dimgray', linewidth=0.3,\n",
    "                  plot_pdp=True, \n",
    "         pdp_kwargs={'linewidth': 5, 'color':'red'})\n",
    "plt.title('PDP: population')\n",
    "plt.ylabel('Predicted median_house_value')\n",
    "plt.xlabel('population');\n",
    "plt.show()"
   ]
  },
  {
   "cell_type": "markdown",
   "metadata": {
    "id": "8l5c2RQvAygR"
   },
   "source": [
    "# Conclusions"
   ]
  },
  {
   "cell_type": "markdown",
   "metadata": {
    "id": "jUJQLeFXAhyk"
   },
   "source": [
    "1. In the permutation importance boxplots, I see that the three most important features are median_income, households, and population.I was not surprised to see median_income as the top feature overall, however I am surprised to see population in the top 3. \n",
    "\n",
    "2. As population increases, the predicted median_house_value decreases sharply at first and then decreases gradually. I was able to see this through the partial dependence plot.\n",
    "\n",
    "3. As median_income increases, the predicted median_house_value increases and then starts to plateau at a predicted median_house_value of 1 and a median_income value of 6. This is not a surpise to me as these two variables seem to have an obvious correlation.\n",
    "\n",
    "4. As the households feature increases, the predicted median_house_value increases sharply at first and then increases gradually.\n",
    "\n",
    "5. In the classification report for the test set, the precision was very high (0.93) when predicting the median_house_value below the median. However, the precision was low (0.59) when predicting the median_house_value above the median."
   ]
  },
  {
   "cell_type": "code",
   "execution_count": null,
   "metadata": {},
   "outputs": [],
   "source": []
  }
 ],
 "metadata": {
  "colab": {
   "provenance": []
  },
  "kernelspec": {
   "display_name": "Python 3 (ipykernel)",
   "language": "python",
   "name": "python3"
  },
  "language_info": {
   "codemirror_mode": {
    "name": "ipython",
    "version": 3
   },
   "file_extension": ".py",
   "mimetype": "text/x-python",
   "name": "python",
   "nbconvert_exporter": "python",
   "pygments_lexer": "ipython3",
   "version": "3.11.4"
  }
 },
 "nbformat": 4,
 "nbformat_minor": 1
}
